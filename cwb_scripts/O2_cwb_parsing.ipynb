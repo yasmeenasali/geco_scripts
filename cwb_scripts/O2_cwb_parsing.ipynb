{
 "cells": [
  {
   "cell_type": "code",
   "execution_count": 99,
   "metadata": {
    "ExecuteTime": {
     "end_time": "2020-06-09T16:29:19.511382Z",
     "start_time": "2020-06-09T16:29:19.481360Z"
    }
   },
   "outputs": [],
   "source": [
    "import os \n",
    "import numpy as np \n",
    "import pandas as pd\n",
    "import matplotlib.pyplot as plt\n",
    "%matplotlib inline"
   ]
  },
  {
   "cell_type": "code",
   "execution_count": 106,
   "metadata": {
    "ExecuteTime": {
     "end_time": "2020-06-09T16:31:05.199011Z",
     "start_time": "2020-06-09T16:31:05.188097Z"
    }
   },
   "outputs": [],
   "source": [
    "import matplotlib\n",
    "rcparams = {}\n",
    "rcparams['text.usetex'] = True\n",
    "rcparams['axes.linewidth'] = 0.5\n",
    "rcparams['font.family'] = 'Times New Roman'\n",
    "rcparams['font.size'] = 16\n",
    "matplotlib.rcParams.update(rcparams)"
   ]
  },
  {
   "cell_type": "code",
   "execution_count": 123,
   "metadata": {
    "ExecuteTime": {
     "end_time": "2020-06-09T16:54:13.974219Z",
     "start_time": "2020-06-09T16:54:13.966371Z"
    }
   },
   "outputs": [],
   "source": [
    "PATH = \"/Users/yasmeenasali/Files/Marka_Lab/Run_Data/ER12_O2_LHV/\" #change this on your computer\n",
    "PLOT_PATH = \"/Users/yasmeenasali/Files/Marka_Lab/GWHEN/Plots/O2_cwb_histograms\"\n",
    "dirs = os.listdir(PATH)\n",
    "params = {'rho': 6, 'netCC': 7, 'netED': 8, \n",
    "          'duration': 56, 'frequency': 57, 'bandwidth': 60}\n",
    "events = len(dirs)"
   ]
  },
  {
   "cell_type": "code",
   "execution_count": 3,
   "metadata": {
    "ExecuteTime": {
     "end_time": "2020-06-09T15:41:10.340994Z",
     "start_time": "2020-06-09T15:41:10.324483Z"
    }
   },
   "outputs": [],
   "source": [
    "def get_parameter(dir, parameter):\n",
    "    with open(f'{PATH}/{dir}/eventDump.txt', 'r') as file:\n",
    "        data = file.readlines()\n",
    "        for line in data:\n",
    "            for value in line.split():\n",
    "                if '{}:'.format(parameter) in value:\n",
    "                    print(line)"
   ]
  },
  {
   "cell_type": "code",
   "execution_count": 79,
   "metadata": {
    "ExecuteTime": {
     "end_time": "2020-06-09T16:22:44.842448Z",
     "start_time": "2020-06-09T16:22:44.834657Z"
    }
   },
   "outputs": [],
   "source": [
    "def get_all_parameters(dir, params):\n",
    "    with open(f'{PATH}/{dir}/eventDump.txt', 'r') as file:\n",
    "        data = file.readlines()\n",
    "        vals = []\n",
    "        for param in params.keys():\n",
    "            idx = params[param]\n",
    "            vals.append(data[idx].split()[1:])\n",
    "        return np.concatenate(vals)"
   ]
  },
  {
   "cell_type": "code",
   "execution_count": 89,
   "metadata": {
    "ExecuteTime": {
     "end_time": "2020-06-09T16:23:24.481682Z",
     "start_time": "2020-06-09T16:23:18.938227Z"
    }
   },
   "outputs": [],
   "source": [
    "full_data = np.zeros([events, 9]) #where 9 is num of params (including params w double values)\n",
    "i = 0\n",
    "for dir in dirs:\n",
    "    full_data[i] = get_all_parameters(dir, params)\n",
    "    i += 1"
   ]
  },
  {
   "cell_type": "code",
   "execution_count": 93,
   "metadata": {
    "ExecuteTime": {
     "end_time": "2020-06-09T16:27:36.318930Z",
     "start_time": "2020-06-09T16:27:36.293033Z"
    }
   },
   "outputs": [],
   "source": [
    "col_names = ['Rho', 'NetCC', 'NetED', 'Duration1', 'Duration2', \n",
    "             'Frequency1', 'Frequency2', 'Bandwidth1', 'Bandwidth2']\n",
    "full_data = pd.DataFrame(full_data, columns = col_names) "
   ]
  },
  {
   "cell_type": "code",
   "execution_count": 130,
   "metadata": {
    "ExecuteTime": {
     "end_time": "2020-06-09T16:55:02.955473Z",
     "start_time": "2020-06-09T16:55:02.032756Z"
    }
   },
   "outputs": [
    {
     "data": {
      "image/png": "[encoded data removed]",
      "text/plain": [
       "<Figure size 432x288 with 1 Axes>"
      ]
     },
     "metadata": {
      "needs_background": "light"
     },
     "output_type": "display_data"
    }
   ],
   "source": [
    "bins = np.linspace(5.8,10,30)\n",
    "plt.hist(full_data['Rho'], bins=bins, color = 'b', alpha=0.5)\n",
    "plt.xlabel('Rho')\n",
    "plt.savefig(f'{PLOT_PATH}/rho_hist.pdf')"
   ]
  },
  {
   "cell_type": "code",
   "execution_count": 131,
   "metadata": {
    "ExecuteTime": {
     "end_time": "2020-06-09T16:55:03.536527Z",
     "start_time": "2020-06-09T16:55:02.959989Z"
    }
   },
   "outputs": [
    {
     "data": {
      "image/png": "[encoded data removed]",
      "text/plain": [
       "<Figure size 432x288 with 1 Axes>"
      ]
     },
     "metadata": {
      "needs_background": "light"
     },
     "output_type": "display_data"
    }
   ],
   "source": [
    "bins = np.linspace(0.2,1,30)\n",
    "plt.hist(full_data['NetCC'], bins=bins, color = 'b', alpha=0.5)\n",
    "plt.xlabel('NetCC')\n",
    "plt.savefig(f'{PLOT_PATH}/netCC_hist.pdf')"
   ]
  },
  {
   "cell_type": "code",
   "execution_count": 132,
   "metadata": {
    "ExecuteTime": {
     "end_time": "2020-06-09T16:55:03.894619Z",
     "start_time": "2020-06-09T16:55:03.540713Z"
    }
   },
   "outputs": [
    {
     "data": {
      "image/png": "[encoded data removed]",
      "text/plain": [
       "<Figure size 432x288 with 1 Axes>"
      ]
     },
     "metadata": {
      "needs_background": "light"
     },
     "output_type": "display_data"
    }
   ],
   "source": [
    "bins = np.linspace(0,2.5,30)\n",
    "plt.hist(full_data['NetED'], bins=bins, color = 'b', alpha=0.5)\n",
    "plt.xlabel('NetED')\n",
    "plt.savefig(f'{PLOT_PATH}/netED_hist.pdf')"
   ]
  },
  {
   "cell_type": "code",
   "execution_count": 133,
   "metadata": {
    "ExecuteTime": {
     "end_time": "2020-06-09T16:55:04.296950Z",
     "start_time": "2020-06-09T16:55:03.898302Z"
    }
   },
   "outputs": [
    {
     "data": {
      "image/png": "[encoded data removed]",
      "text/plain": [
       "<Figure size 432x288 with 1 Axes>"
      ]
     },
     "metadata": {
      "needs_background": "light"
     },
     "output_type": "display_data"
    }
   ],
   "source": [
    "bins = np.linspace(0,2000,40)\n",
    "plt.hist(full_data['Frequency1'], bins=bins, color = 'b', alpha=0.5)\n",
    "plt.hist(full_data['Frequency2'], bins=bins, color = 'r', alpha=0.5)\n",
    "plt.xlabel('Frequency')\n",
    "plt.savefig(f'{PLOT_PATH}/frequency_hist.pdf')"
   ]
  },
  {
   "cell_type": "code",
   "execution_count": 134,
   "metadata": {
    "ExecuteTime": {
     "end_time": "2020-06-09T16:55:04.711970Z",
     "start_time": "2020-06-09T16:55:04.300482Z"
    }
   },
   "outputs": [
    {
     "data": {
      "image/png": "[encoded data removed]",
      "text/plain": [
       "<Figure size 432x288 with 1 Axes>"
      ]
     },
     "metadata": {
      "needs_background": "light"
     },
     "output_type": "display_data"
    }
   ],
   "source": [
    "bins = np.linspace(0,1.1,40)\n",
    "plt.hist(full_data['Duration1'], bins=bins, color = 'b', alpha=0.5)\n",
    "plt.hist(full_data['Duration2'], bins=bins, color = 'r', alpha=0.5)\n",
    "plt.xlabel('Duration')\n",
    "plt.savefig(f'{PLOT_PATH}/duration_hist.pdf')"
   ]
  },
  {
   "cell_type": "code",
   "execution_count": 135,
   "metadata": {
    "ExecuteTime": {
     "end_time": "2020-06-09T16:55:05.302677Z",
     "start_time": "2020-06-09T16:55:04.714293Z"
    }
   },
   "outputs": [
    {
     "data": {
      "image/png": "[encoded data removed]",
      "text/plain": [
       "<Figure size 432x288 with 1 Axes>"
      ]
     },
     "metadata": {
      "needs_background": "light"
     },
     "output_type": "display_data"
    }
   ],
   "source": [
    "bins = np.linspace(0,820,40)\n",
    "plt.hist(full_data['Bandwidth1'], bins=bins, color = 'b', alpha=0.5)\n",
    "plt.hist(full_data['Bandwidth2'], bins=bins, color = 'r', alpha=0.5)\n",
    "plt.xlabel('Bandwidth')\n",
    "plt.savefig(f'{PLOT_PATH}/bandwidth_hist.pdf')"
   ]
  },
  {
   "cell_type": "code",
   "execution_count": null,
   "metadata": {},
   "outputs": [],
   "source": []
  }
 ],
 "metadata": {
  "kernelspec": {
   "display_name": "Python 3",
   "language": "python",
   "name": "python3"
  },
  "language_info": {
   "codemirror_mode": {
    "name": "ipython",
    "version": 3
   },
   "file_extension": ".py",
   "mimetype": "text/x-python",
   "name": "python",
   "nbconvert_exporter": "python",
   "pygments_lexer": "ipython3",
   "version": "3.7.1"
  }
 },
 "nbformat": 4,
 "nbformat_minor": 2
}
